{
 "cells": [
  {
   "cell_type": "markdown",
   "metadata": {},
   "source": [
    "# Snowflake Python Connection"
   ]
  },
  {
   "cell_type": "markdown",
   "metadata": {},
   "source": [
    "Upgrading pip to the latest version"
   ]
  },
  {
   "cell_type": "code",
   "execution_count": 6,
   "metadata": {
    "ExecuteTime": {
     "end_time": "2021-03-30T00:32:54.194591Z",
     "start_time": "2021-03-30T00:32:52.939076Z"
    }
   },
   "outputs": [
    {
     "name": "stdout",
     "output_type": "stream",
     "text": [
      "\u001b[33mDEPRECATION: Python 2.7 reached the end of its life on January 1st, 2020. Please upgrade your Python as Python 2.7 is no longer maintained. pip 21.0 will drop support for Python 2.7 in January 2021. More details about Python 2 support in pip can be found at https://pip.pypa.io/en/latest/development/release-process/#python-2-support pip 21.0 will remove support for this functionality.\u001b[0m\n",
      "Requirement already up-to-date: pip in /Library/Frameworks/Python.framework/Versions/2.7/lib/python2.7/site-packages (20.3.4)\n"
     ]
    }
   ],
   "source": [
    "!python -m pip install --upgrade pip"
   ]
  },
  {
   "cell_type": "markdown",
   "metadata": {},
   "source": [
    "Installing the latest version of Snowflake Python Connector"
   ]
  },
  {
   "cell_type": "code",
   "execution_count": 41,
   "metadata": {
    "ExecuteTime": {
     "end_time": "2021-03-30T02:30:57.901857Z",
     "start_time": "2021-03-30T02:30:53.824213Z"
    }
   },
   "outputs": [
    {
     "name": "stdout",
     "output_type": "stream",
     "text": [
      "Requirement already up-to-date: snowflake-connector-python in /anaconda3/lib/python3.6/site-packages (2.4.1)\n",
      "Requirement already satisfied, skipping upgrade: pycryptodomex!=3.5.0,<4.0.0,>=3.2 in /anaconda3/lib/python3.6/site-packages (from snowflake-connector-python) (3.10.1)\n",
      "Requirement already satisfied, skipping upgrade: pyjwt<3.0.0 in /anaconda3/lib/python3.6/site-packages (from snowflake-connector-python) (2.0.1)\n",
      "Requirement already satisfied, skipping upgrade: certifi<2021.0.0 in /anaconda3/lib/python3.6/site-packages (from snowflake-connector-python) (2020.12.5)\n",
      "Requirement already satisfied, skipping upgrade: azure-storage-blob<13.0.0,>=12.0.0 in /anaconda3/lib/python3.6/site-packages (from snowflake-connector-python) (12.8.0)\n",
      "Requirement already satisfied, skipping upgrade: cffi<2.0.0,>=1.9 in /anaconda3/lib/python3.6/site-packages (from snowflake-connector-python) (1.11.5)\n",
      "Requirement already satisfied, skipping upgrade: oscrypto<2.0.0 in /anaconda3/lib/python3.6/site-packages (from snowflake-connector-python) (1.2.1)\n",
      "Requirement already satisfied, skipping upgrade: chardet<4,>=3.0.2 in /anaconda3/lib/python3.6/site-packages (from snowflake-connector-python) (3.0.4)\n",
      "Requirement already satisfied, skipping upgrade: idna<3,>=2.5 in /anaconda3/lib/python3.6/site-packages (from snowflake-connector-python) (2.6)\n",
      "Requirement already satisfied, skipping upgrade: requests<3.0.0 in /anaconda3/lib/python3.6/site-packages (from snowflake-connector-python) (2.18.4)\n",
      "Requirement already satisfied, skipping upgrade: dataclasses<1.0; python_version == \"3.6\" in /anaconda3/lib/python3.6/site-packages (from snowflake-connector-python) (0.7)\n",
      "Requirement already satisfied, skipping upgrade: asn1crypto<2.0.0,>0.24.0 in /anaconda3/lib/python3.6/site-packages (from snowflake-connector-python) (1.4.0)\n",
      "Requirement already satisfied, skipping upgrade: setuptools>34.0.0 in /anaconda3/lib/python3.6/site-packages (from snowflake-connector-python) (39.1.0)\n",
      "Requirement already satisfied, skipping upgrade: boto3<2.0.0,>=1.4.4 in /anaconda3/lib/python3.6/site-packages (from snowflake-connector-python) (1.17.40)\n",
      "Requirement already satisfied, skipping upgrade: azure-common<2.0.0 in /anaconda3/lib/python3.6/site-packages (from snowflake-connector-python) (1.1.27)\n",
      "Requirement already satisfied, skipping upgrade: cryptography<4.0.0,>=2.5.0 in /anaconda3/lib/python3.6/site-packages (from snowflake-connector-python) (2.6.1)\n",
      "Requirement already satisfied, skipping upgrade: pyOpenSSL<20.0.0,>=16.2.0 in /anaconda3/lib/python3.6/site-packages (from snowflake-connector-python) (18.0.0)\n",
      "Requirement already satisfied, skipping upgrade: pytz in /anaconda3/lib/python3.6/site-packages (from snowflake-connector-python) (2018.4)\n",
      "Requirement already satisfied, skipping upgrade: azure-core<2.0.0,>=1.10.0 in /anaconda3/lib/python3.6/site-packages (from azure-storage-blob<13.0.0,>=12.0.0->snowflake-connector-python) (1.12.0)\n",
      "Requirement already satisfied, skipping upgrade: msrest>=0.6.18 in /anaconda3/lib/python3.6/site-packages (from azure-storage-blob<13.0.0,>=12.0.0->snowflake-connector-python) (0.6.21)\n",
      "Requirement already satisfied, skipping upgrade: pycparser in /anaconda3/lib/python3.6/site-packages (from cffi<2.0.0,>=1.9->snowflake-connector-python) (2.18)\n",
      "Requirement already satisfied, skipping upgrade: urllib3<1.23,>=1.21.1 in /anaconda3/lib/python3.6/site-packages (from requests<3.0.0->snowflake-connector-python) (1.22)\n",
      "Requirement already satisfied, skipping upgrade: jmespath<1.0.0,>=0.7.1 in /anaconda3/lib/python3.6/site-packages (from boto3<2.0.0,>=1.4.4->snowflake-connector-python) (0.10.0)\n",
      "Requirement already satisfied, skipping upgrade: botocore<1.21.0,>=1.20.40 in /anaconda3/lib/python3.6/site-packages (from boto3<2.0.0,>=1.4.4->snowflake-connector-python) (1.20.40)\n",
      "Requirement already satisfied, skipping upgrade: s3transfer<0.4.0,>=0.3.0 in /anaconda3/lib/python3.6/site-packages (from boto3<2.0.0,>=1.4.4->snowflake-connector-python) (0.3.6)\n",
      "Requirement already satisfied, skipping upgrade: six>=1.4.1 in /anaconda3/lib/python3.6/site-packages (from cryptography<4.0.0,>=2.5.0->snowflake-connector-python) (1.11.0)\n",
      "Requirement already satisfied, skipping upgrade: isodate>=0.6.0 in /anaconda3/lib/python3.6/site-packages (from msrest>=0.6.18->azure-storage-blob<13.0.0,>=12.0.0->snowflake-connector-python) (0.6.0)\n",
      "Requirement already satisfied, skipping upgrade: requests-oauthlib>=0.5.0 in /anaconda3/lib/python3.6/site-packages (from msrest>=0.6.18->azure-storage-blob<13.0.0,>=12.0.0->snowflake-connector-python) (1.3.0)\n",
      "Requirement already satisfied, skipping upgrade: python-dateutil<3.0.0,>=2.1 in /anaconda3/lib/python3.6/site-packages (from botocore<1.21.0,>=1.20.40->boto3<2.0.0,>=1.4.4->snowflake-connector-python) (2.7.3)\n",
      "Requirement already satisfied, skipping upgrade: oauthlib>=3.0.0 in /anaconda3/lib/python3.6/site-packages (from requests-oauthlib>=0.5.0->msrest>=0.6.18->azure-storage-blob<13.0.0,>=12.0.0->snowflake-connector-python) (3.1.0)\n",
      "\u001b[33mWARNING: You are using pip version 19.2.3, however version 21.0.1 is available.\n",
      "You should consider upgrading via the 'pip install --upgrade pip' command.\u001b[0m\n"
     ]
    }
   ],
   "source": [
    "!pip3 install --upgrade snowflake-connector-python"
   ]
  },
  {
   "cell_type": "markdown",
   "metadata": {},
   "source": [
    "Importing Snowflake Connector library"
   ]
  },
  {
   "cell_type": "code",
   "execution_count": 9,
   "metadata": {
    "ExecuteTime": {
     "end_time": "2021-03-30T00:46:20.123257Z",
     "start_time": "2021-03-30T00:46:17.992802Z"
    }
   },
   "outputs": [],
   "source": [
    "import snowflake.connector as sf"
   ]
  },
  {
   "cell_type": "markdown",
   "metadata": {},
   "source": [
    "Storing Snowflake credentials and Object names to python variables"
   ]
  },
  {
   "cell_type": "code",
   "execution_count": 10,
   "metadata": {
    "ExecuteTime": {
     "end_time": "2021-03-30T01:04:47.797493Z",
     "start_time": "2021-03-30T01:04:47.782909Z"
    }
   },
   "outputs": [],
   "source": [
    "user = \"roopaktj\"\n",
    "password = \"*********\"\n",
    "account = \"le36220.ap-southeast-2\"\n",
    "database = \"MEDICAL\"\n",
    "warehouse = \"MED_WH\"\n",
    "schema = \"PRODUCT\"\n",
    "role = \"ACCOUNTADMIN\""
   ]
  },
  {
   "cell_type": "markdown",
   "metadata": {},
   "source": [
    "Establishing connection to the SF account"
   ]
  },
  {
   "cell_type": "code",
   "execution_count": 15,
   "metadata": {
    "ExecuteTime": {
     "end_time": "2021-03-30T01:08:13.306664Z",
     "start_time": "2021-03-30T01:08:11.521372Z"
    }
   },
   "outputs": [],
   "source": [
    "con = sf.connect(\n",
    "    user = user,\n",
    "    password = password,\n",
    "    account = account\n",
    ")"
   ]
  },
  {
   "cell_type": "markdown",
   "metadata": {
    "ExecuteTime": {
     "end_time": "2021-03-30T02:46:51.063391Z",
     "start_time": "2021-03-30T02:46:51.056135Z"
    }
   },
   "source": [
    "Writing a general function to execute query "
   ]
  },
  {
   "cell_type": "code",
   "execution_count": 17,
   "metadata": {
    "ExecuteTime": {
     "end_time": "2021-03-30T01:18:50.419151Z",
     "start_time": "2021-03-30T01:18:50.412360Z"
    }
   },
   "outputs": [],
   "source": [
    "def run_query(connection, query):\n",
    "    cursor = connection.cursor()\n",
    "    cursor.execute(query)\n",
    "    cursor.close()\n"
   ]
  },
  {
   "cell_type": "markdown",
   "metadata": {
    "ExecuteTime": {
     "end_time": "2021-03-30T02:47:44.849084Z",
     "start_time": "2021-03-30T02:47:44.844475Z"
    }
   },
   "source": [
    "Function to select initial snowflake objects like database, warehouse, schema and role"
   ]
  },
  {
   "cell_type": "code",
   "execution_count": 27,
   "metadata": {
    "ExecuteTime": {
     "end_time": "2021-03-30T02:10:50.483300Z",
     "start_time": "2021-03-30T02:10:50.463445Z"
    }
   },
   "outputs": [],
   "source": [
    "def initial_connection(warehouse, schema, database, role):\n",
    "    try :\n",
    "        sql1 = 'use warehouse '+ warehouse\n",
    "        sql2 = 'use schema '+ schema\n",
    "        sql3 = 'use database '+ database\n",
    "        sql4 = 'use role '+ role\n",
    "        run_query(con, sql1)\n",
    "        run_query(con, sql2)\n",
    "        run_query(con, sql3)\n",
    "        run_query(con, sql4)\n",
    "    except Exception as e:\n",
    "        print(e)\n",
    "    "
   ]
  },
  {
   "cell_type": "code",
   "execution_count": 32,
   "metadata": {
    "ExecuteTime": {
     "end_time": "2021-03-30T02:29:24.766159Z",
     "start_time": "2021-03-30T02:29:24.449125Z"
    }
   },
   "outputs": [],
   "source": [
    "initial_connection(warehouse, schema, database, role)"
   ]
  },
  {
   "cell_type": "code",
   "execution_count": 29,
   "metadata": {
    "ExecuteTime": {
     "end_time": "2021-03-30T02:28:03.540483Z",
     "start_time": "2021-03-30T02:28:03.532793Z"
    }
   },
   "outputs": [],
   "source": [
    "def import_to_pandas(sql, con):\n",
    "    return pd.read_sql(sql, con)"
   ]
  },
  {
   "cell_type": "code",
   "execution_count": 38,
   "metadata": {
    "ExecuteTime": {
     "end_time": "2021-03-30T02:30:26.903607Z",
     "start_time": "2021-03-30T02:30:26.900327Z"
    }
   },
   "outputs": [],
   "source": [
    "sql = 'select * from PRODUCT.HEALTHCARE limit 10'"
   ]
  },
  {
   "cell_type": "code",
   "execution_count": 44,
   "metadata": {
    "ExecuteTime": {
     "end_time": "2021-03-30T02:42:39.475652Z",
     "start_time": "2021-03-30T02:42:39.330304Z"
    }
   },
   "outputs": [],
   "source": [
    "df = import_to_pandas(sql, con)"
   ]
  },
  {
   "cell_type": "code",
   "execution_count": 45,
   "metadata": {
    "ExecuteTime": {
     "end_time": "2021-03-30T02:42:40.949601Z",
     "start_time": "2021-03-30T02:42:40.907201Z"
    }
   },
   "outputs": [
    {
     "data": {
      "text/html": [
       "<div>\n",
       "<style scoped>\n",
       "    .dataframe tbody tr th:only-of-type {\n",
       "        vertical-align: middle;\n",
       "    }\n",
       "\n",
       "    .dataframe tbody tr th {\n",
       "        vertical-align: top;\n",
       "    }\n",
       "\n",
       "    .dataframe thead th {\n",
       "        text-align: right;\n",
       "    }\n",
       "</style>\n",
       "<table border=\"1\" class=\"dataframe\">\n",
       "  <thead>\n",
       "    <tr style=\"text-align: right;\">\n",
       "      <th></th>\n",
       "      <th>ID</th>\n",
       "      <th>PROJECT_CODE</th>\n",
       "      <th>PQ</th>\n",
       "      <th>PO_SO</th>\n",
       "      <th>ASN_DN</th>\n",
       "      <th>COUNTRY</th>\n",
       "      <th>MANAGED_BY</th>\n",
       "      <th>FULFILL_VIA_VENDOR</th>\n",
       "      <th>INCO_TERM</th>\n",
       "      <th>SHIPMENT_MODE</th>\n",
       "      <th>...</th>\n",
       "      <th>UNIT_OF_MEASURE</th>\n",
       "      <th>LINE_ITEM_QUANTITY</th>\n",
       "      <th>LINE_ITEM_VALUE</th>\n",
       "      <th>PACK_PRICE</th>\n",
       "      <th>UNIT_PRICE</th>\n",
       "      <th>MANUFACTURING_SITE</th>\n",
       "      <th>FIRST_LINE_DESIGNATION</th>\n",
       "      <th>WEIGHT</th>\n",
       "      <th>FREIGHT_COST</th>\n",
       "      <th>LINE_ITEM_INSURANCE</th>\n",
       "    </tr>\n",
       "  </thead>\n",
       "  <tbody>\n",
       "    <tr>\n",
       "      <td>0</td>\n",
       "      <td>1.0</td>\n",
       "      <td>100-CI-T01</td>\n",
       "      <td>Pre-PQ Process</td>\n",
       "      <td>SCMS-4</td>\n",
       "      <td>ASN-8</td>\n",
       "      <td>Ivory Coast</td>\n",
       "      <td>PMO - US</td>\n",
       "      <td>Direct Drop</td>\n",
       "      <td>EXW</td>\n",
       "      <td>Air</td>\n",
       "      <td>...</td>\n",
       "      <td>30.0</td>\n",
       "      <td>19</td>\n",
       "      <td>551.0</td>\n",
       "      <td>29.00</td>\n",
       "      <td>0.97</td>\n",
       "      <td>Ranbaxy Fine Chemicals LTD</td>\n",
       "      <td>Yes</td>\n",
       "      <td>13.0</td>\n",
       "      <td>780.34</td>\n",
       "      <td>None</td>\n",
       "    </tr>\n",
       "    <tr>\n",
       "      <td>1</td>\n",
       "      <td>3.0</td>\n",
       "      <td>108-VN-T01</td>\n",
       "      <td>Pre-PQ Process</td>\n",
       "      <td>SCMS-13</td>\n",
       "      <td>ASN-85</td>\n",
       "      <td>Vietnam</td>\n",
       "      <td>PMO - US</td>\n",
       "      <td>Direct Drop</td>\n",
       "      <td>EXW</td>\n",
       "      <td>Air</td>\n",
       "      <td>...</td>\n",
       "      <td>240.0</td>\n",
       "      <td>1000</td>\n",
       "      <td>6200.0</td>\n",
       "      <td>6.20</td>\n",
       "      <td>0.03</td>\n",
       "      <td>Aurobindo Unit III  India</td>\n",
       "      <td>Yes</td>\n",
       "      <td>358.0</td>\n",
       "      <td>4521.50</td>\n",
       "      <td>None</td>\n",
       "    </tr>\n",
       "    <tr>\n",
       "      <td>2</td>\n",
       "      <td>4.0</td>\n",
       "      <td>100-CI-T01</td>\n",
       "      <td>Pre-PQ Process</td>\n",
       "      <td>SCMS-20</td>\n",
       "      <td>ASN-14</td>\n",
       "      <td>Ivory Coast</td>\n",
       "      <td>PMO - US</td>\n",
       "      <td>Direct Drop</td>\n",
       "      <td>FCA</td>\n",
       "      <td>Air</td>\n",
       "      <td>...</td>\n",
       "      <td>100.0</td>\n",
       "      <td>500</td>\n",
       "      <td>40000.0</td>\n",
       "      <td>80.00</td>\n",
       "      <td>0.80</td>\n",
       "      <td>ABBVIE GmbH &amp; Co.KG Wiesbaden</td>\n",
       "      <td>Yes</td>\n",
       "      <td>171.0</td>\n",
       "      <td>1653.78</td>\n",
       "      <td>None</td>\n",
       "    </tr>\n",
       "    <tr>\n",
       "      <td>3</td>\n",
       "      <td>15.0</td>\n",
       "      <td>108-VN-T01</td>\n",
       "      <td>Pre-PQ Process</td>\n",
       "      <td>SCMS-78</td>\n",
       "      <td>ASN-50</td>\n",
       "      <td>Vietnam</td>\n",
       "      <td>PMO - US</td>\n",
       "      <td>Direct Drop</td>\n",
       "      <td>EXW</td>\n",
       "      <td>Air</td>\n",
       "      <td>...</td>\n",
       "      <td>60.0</td>\n",
       "      <td>31920</td>\n",
       "      <td>127360.8</td>\n",
       "      <td>3.99</td>\n",
       "      <td>0.07</td>\n",
       "      <td>Ranbaxy  Paonta Shahib  India</td>\n",
       "      <td>Yes</td>\n",
       "      <td>1855.0</td>\n",
       "      <td>16007.06</td>\n",
       "      <td>None</td>\n",
       "    </tr>\n",
       "    <tr>\n",
       "      <td>4</td>\n",
       "      <td>16.0</td>\n",
       "      <td>108-VN-T01</td>\n",
       "      <td>Pre-PQ Process</td>\n",
       "      <td>SCMS-81</td>\n",
       "      <td>ASN-55</td>\n",
       "      <td>Vietnam</td>\n",
       "      <td>PMO - US</td>\n",
       "      <td>Direct Drop</td>\n",
       "      <td>EXW</td>\n",
       "      <td>Air</td>\n",
       "      <td>...</td>\n",
       "      <td>60.0</td>\n",
       "      <td>38000</td>\n",
       "      <td>121600.0</td>\n",
       "      <td>3.20</td>\n",
       "      <td>0.05</td>\n",
       "      <td>Aurobindo Unit III  India</td>\n",
       "      <td>Yes</td>\n",
       "      <td>7590.0</td>\n",
       "      <td>45450.08</td>\n",
       "      <td>None</td>\n",
       "    </tr>\n",
       "  </tbody>\n",
       "</table>\n",
       "<p>5 rows × 31 columns</p>\n",
       "</div>"
      ],
      "text/plain": [
       "     ID PROJECT_CODE              PQ    PO_SO  ASN_DN      COUNTRY MANAGED_BY  \\\n",
       "0   1.0   100-CI-T01  Pre-PQ Process   SCMS-4   ASN-8  Ivory Coast   PMO - US   \n",
       "1   3.0   108-VN-T01  Pre-PQ Process  SCMS-13  ASN-85      Vietnam   PMO - US   \n",
       "2   4.0   100-CI-T01  Pre-PQ Process  SCMS-20  ASN-14  Ivory Coast   PMO - US   \n",
       "3  15.0   108-VN-T01  Pre-PQ Process  SCMS-78  ASN-50      Vietnam   PMO - US   \n",
       "4  16.0   108-VN-T01  Pre-PQ Process  SCMS-81  ASN-55      Vietnam   PMO - US   \n",
       "\n",
       "  FULFILL_VIA_VENDOR INCO_TERM SHIPMENT_MODE  ... UNIT_OF_MEASURE  \\\n",
       "0        Direct Drop       EXW           Air  ...            30.0   \n",
       "1        Direct Drop       EXW           Air  ...           240.0   \n",
       "2        Direct Drop       FCA           Air  ...           100.0   \n",
       "3        Direct Drop       EXW           Air  ...            60.0   \n",
       "4        Direct Drop       EXW           Air  ...            60.0   \n",
       "\n",
       "  LINE_ITEM_QUANTITY LINE_ITEM_VALUE PACK_PRICE UNIT_PRICE  \\\n",
       "0                 19           551.0      29.00       0.97   \n",
       "1               1000          6200.0       6.20       0.03   \n",
       "2                500         40000.0      80.00       0.80   \n",
       "3              31920        127360.8       3.99       0.07   \n",
       "4              38000        121600.0       3.20       0.05   \n",
       "\n",
       "              MANUFACTURING_SITE FIRST_LINE_DESIGNATION  WEIGHT FREIGHT_COST  \\\n",
       "0     Ranbaxy Fine Chemicals LTD                    Yes    13.0       780.34   \n",
       "1      Aurobindo Unit III  India                    Yes   358.0      4521.50   \n",
       "2  ABBVIE GmbH & Co.KG Wiesbaden                    Yes   171.0      1653.78   \n",
       "3  Ranbaxy  Paonta Shahib  India                    Yes  1855.0     16007.06   \n",
       "4      Aurobindo Unit III  India                    Yes  7590.0     45450.08   \n",
       "\n",
       "  LINE_ITEM_INSURANCE  \n",
       "0                None  \n",
       "1                None  \n",
       "2                None  \n",
       "3                None  \n",
       "4                None  \n",
       "\n",
       "[5 rows x 31 columns]"
      ]
     },
     "execution_count": 45,
     "metadata": {},
     "output_type": "execute_result"
    }
   ],
   "source": [
    "df.head()"
   ]
  }
 ],
 "metadata": {
  "kernelspec": {
   "display_name": "Python 3",
   "language": "python",
   "name": "python3"
  },
  "language_info": {
   "codemirror_mode": {
    "name": "ipython",
    "version": 3
   },
   "file_extension": ".py",
   "mimetype": "text/x-python",
   "name": "python",
   "nbconvert_exporter": "python",
   "pygments_lexer": "ipython3",
   "version": "3.6.8"
  },
  "toc": {
   "base_numbering": 1,
   "nav_menu": {},
   "number_sections": true,
   "sideBar": true,
   "skip_h1_title": false,
   "title_cell": "Table of Contents",
   "title_sidebar": "Contents",
   "toc_cell": false,
   "toc_position": {},
   "toc_section_display": true,
   "toc_window_display": false
  }
 },
 "nbformat": 4,
 "nbformat_minor": 2
}
